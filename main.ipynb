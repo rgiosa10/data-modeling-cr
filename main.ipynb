{
 "cells": [
  {
   "cell_type": "markdown",
   "metadata": {},
   "source": [
    "## Exercise 1: Data Modeling\n",
    "\n",
    "Using draw.io create a data model. Your data model MUST meet the following requirements:\n",
    "\n",
    "1. Contain a _tickets_ fact table\n",
    "1. Contain the following dimensions: _airlines_, _airports_, and _passengers_\n",
    "1. Develop _passengers_ as an SCD Type2 dimension:\n",
    "    - Passenger email can be used as the natural key\n",
    "    - Be sure to add a surrogate key and effective start/end dates\n",
    "    - You can optionally add an active column\n",
    "1. IATA codes can be used as the primary key for both _airlines_ and _airports_\n",
    "1. Use the t-ticket number as the primary key for the _tickets_ fact"
   ]
  },
  {
   "cell_type": "markdown",
   "metadata": {},
   "source": [
    "## Exercise 2: Data Loading and Normalization\n",
    "\n",
    "Develop an ETL pipeline that loads our dimensions and facts from the source file. You pipeline MUST meet the following requirements:\n",
    "\n",
    "**General**:\n",
    "- Load all dimensions in order: _airlines_, _airports_, and _passengers_\n",
    "- Load the _tickets_ fact table after loading dimensions\n",
    "- Your pipeline can drop/replace tables\n",
    "- You can assume only inserts at this state. No updates, deletes, or merges\n",
    "\n",
    "**Airlines Dim:**\n",
    "- Identify unique airlines\n",
    "- Use IATA code as the dimension key\n",
    "\n",
    "**Airports Dim:**\n",
    "- Identify unique airports from both origin and destination fields\n",
    "- Use IATA code as the dimension key\n",
    "\n",
    "**Passengers Dim:**\n",
    "- Identify unique passengers\n",
    "- Use the passenger email as the dimension natural key\n",
    "- Generate UUIDs for the dimension surrogate keys\n",
    "- Set the effective start date to any date. You can either use the ticket date, current date, or a fixed set date in the past\n",
    "- Set the effective end date to None\n",
    "- Optionally set your active flag to 'Y'\n",
    "- Passenger address columns are considered SCD Type 2 columns\n",
    "- All other columns are SCD Type 1\n",
    "\n",
    "**Tickets Fact:**\n",
    "- Link to _airlines_ and _airports_ dimensions by their IATA codes. \n",
    "- You don't need a lookup for _airlines_ and _airports_ since we use their IATA as dimension keys\n",
    "- Link to the _passengers_ dimension by its surrogate key\n",
    "- You need to perform a lookup to the _passengers_ dimension\n",
    "- Load all teh tickets\n",
    "\n",
    "<br><br>"
   ]
  },
  {
   "cell_type": "code",
   "execution_count": null,
   "metadata": {},
   "outputs": [],
   "source": [
    "# Import the data from json file and explore the data"
   ]
  }
 ],
 "metadata": {
  "language_info": {
   "name": "python"
  },
  "orig_nbformat": 4
 },
 "nbformat": 4,
 "nbformat_minor": 2
}
